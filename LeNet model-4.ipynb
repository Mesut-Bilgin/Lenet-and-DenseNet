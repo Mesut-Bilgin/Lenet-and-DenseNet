{
 "cells": [
  {
   "cell_type": "markdown",
   "id": "8ecb89ae",
   "metadata": {},
   "source": [
    "#### Importing The Dataset"
   ]
  },
  {
   "cell_type": "code",
   "execution_count": 1,
   "id": "c8ff9779",
   "metadata": {},
   "outputs": [
    {
     "name": "stdout",
     "output_type": "stream",
     "text": [
      "X_train shape:  (54000, 28, 28) X_test shape:  (10000, 28, 28) X valid shape:  (6000, 28, 28)\n",
      "y_train shape:  (54000,) y_test shape:  (10000,) y valid shape:  (6000,)\n"
     ]
    }
   ],
   "source": [
    "from keras.datasets import mnist\n",
    "import numpy as np\n",
    "from keras.callbacks import ModelCheckpoint\n",
    "import warnings\n",
    "# filter warnings\n",
    "warnings.filterwarnings('ignore')\n",
    "(X_train, y_train), (X_test, y_test) = mnist.load_data()\n",
    "X_valid = X_train[-6000:]\n",
    "y_valid = y_train[-6000:]\n",
    "X_train = X_train[0:54000]\n",
    "y_train = y_train[0:54000]\n",
    "print('X_train shape: ', X_train.shape, 'X_test shape: ', X_test.shape, 'X valid shape: ', X_valid.shape) \n",
    "print('y_train shape: ', y_train.shape, 'y_test shape: ', y_test.shape, 'y valid shape: ', y_valid.shape)"
   ]
  },
  {
   "cell_type": "markdown",
   "id": "3249f5fb",
   "metadata": {},
   "source": [
    "### Visualizing randomly some images in the training set"
   ]
  },
  {
   "cell_type": "code",
   "execution_count": 2,
   "id": "bd6c1afd",
   "metadata": {},
   "outputs": [
    {
     "data": {
      "image/png": "[encoded data removed]",
      "text/plain": [
       "<Figure size 864x360 with 8 Axes>"
      ]
     },
     "metadata": {
      "needs_background": "light"
     },
     "output_type": "display_data"
    }
   ],
   "source": [
    "import matplotlib.pyplot as plt \n",
    "import random\n",
    "plt.figure(figsize = (12,5))\n",
    "for i in range(8):\n",
    "    ind = random.randint(0, len(X_train))\n",
    "    plt.subplot(240+1+i)\n",
    "    plt.imshow(X_train[ind])"
   ]
  },
  {
   "cell_type": "code",
   "execution_count": 3,
   "id": "d226e721",
   "metadata": {},
   "outputs": [],
   "source": [
    "from tensorflow.keras.utils import to_categorical\n",
    "def preprocess_data(X_train, y_train, X_test, y_test, X_valid, y_valid):\n",
    "    # reshape images to the required size of Keras\n",
    "    X_train = X_train.reshape(X_train.shape[0], X_train.shape[1], X_train.shape[2], 1)\n",
    "    X_test = X_test.reshape(X_test.shape[0], X_test.shape[1], X_test.shape[2], 1)\n",
    "  \n",
    "    # convert image values from integers to floats\n",
    "    X_train = X_train.astype('float32')\n",
    "    X_valid = X_valid.astype('float32')\n",
    "    X_test = X_test.astype('float32')\n",
    "  \n",
    "    # normalization\n",
    "    X_train = X_train/255.0\n",
    "    X_valid = X_valid/255.0\n",
    "    X_test_norm = X_test/255.0\n",
    "  \n",
    "    # One-hot encoding label \n",
    "    y_train = to_categorical(y_train)\n",
    "    y_valid = to_categorical(y_valid)\n",
    "    y_test = to_categorical(y_test)\n",
    "  \n",
    "    return X_train, y_train, X_test, y_test, X_valid, y_valid"
   ]
  },
  {
   "cell_type": "code",
   "execution_count": 4,
   "id": "5b1ff513",
   "metadata": {},
   "outputs": [],
   "source": [
    "X_train, y_train, X_test, y_test, X_valid, y_valid = preprocess_data(X_train, y_train, X_test, y_test, X_valid, y_valid)"
   ]
  },
  {
   "cell_type": "code",
   "execution_count": 5,
   "id": "cbcdc792",
   "metadata": {},
   "outputs": [],
   "source": [
    "cp = ModelCheckpoint(\"model3/\" ,save_best_only = True)"
   ]
  },
  {
   "cell_type": "markdown",
   "id": "d4d9641f",
   "metadata": {},
   "source": [
    "### Building The Model"
   ]
  },
  {
   "cell_type": "code",
   "execution_count": 6,
   "id": "6a2300a3",
   "metadata": {},
   "outputs": [],
   "source": [
    "from keras.models import Sequential\n",
    "from keras.layers import Conv2D, MaxPooling2D, Dense, Flatten, AveragePooling2D, Dropout\n",
    "from tensorflow.keras.optimizers import SGD\n",
    "from keras.metrics import categorical_crossentropy\n",
    "\n",
    "def LeNet():\n",
    "    model = Sequential()\n",
    "\n",
    "    # Convolutional layer increased filter and kernel size \n",
    "    model.add(Conv2D(filters = 14, kernel_size = (6, 6), padding = 'same', \n",
    "                       activation = 'relu', input_shape = (28,28,1)))\n",
    "\n",
    "    # Max-pooing layer with pooling window size is 2x2\n",
    "    model.add(MaxPooling2D(pool_size = (2,2)))\n",
    "\n",
    "    # Convolutional layer \n",
    "    model.add(Conv2D(filters = 28, kernel_size = (6, 6), activation = 'relu'))\n",
    "\n",
    "    # Max-pooling layer \n",
    "    model.add(MaxPooling2D(pool_size = (2,2)))\n",
    "\n",
    "    # Flatten layer \n",
    "    model.add(Flatten())\n",
    "\n",
    "    # The first fully connected layer \n",
    "    model.add(Dense(120, activation = 'relu'))\n",
    "    # adding droup out \n",
    "    model.add(Dropout(0.3))\n",
    "    \n",
    "    # The second fully connected layer \n",
    "    model.add(Dense(84, activation = 'relu'))\n",
    "    # adding droup out\n",
    "    model.add(Dropout(0.3))\n",
    "\n",
    "    # The output layer  \n",
    "    model.add(Dense(10, activation = 'softmax'))\n",
    "\n",
    "    # compile the model with a loss function, a metric and an optimizer function\n",
    "    # In this case, the loss function is categorical crossentropy, \n",
    "    # we use Stochastic Gradient Descent (SGD) method with learning rate lr = 0.01 to optimize the loss function\n",
    "    # metric: accuracy \n",
    "\n",
    "    opt = SGD(lr = 0.01)\n",
    "    model.compile(loss = categorical_crossentropy, \n",
    "                    optimizer = opt, \n",
    "                    metrics = ['accuracy']) \n",
    "\n",
    "    return model"
   ]
  },
  {
   "cell_type": "code",
   "execution_count": 7,
   "id": "b3a30bfc",
   "metadata": {},
   "outputs": [],
   "source": [
    "model = LeNet()"
   ]
  },
  {
   "cell_type": "code",
   "execution_count": 8,
   "id": "850db930",
   "metadata": {},
   "outputs": [
    {
     "name": "stdout",
     "output_type": "stream",
     "text": [
      "Model: \"sequential\"\n",
      "_________________________________________________________________\n",
      " Layer (type)                Output Shape              Param #   \n",
      "=================================================================\n",
      " conv2d (Conv2D)             (None, 28, 28, 14)        518       \n",
      "                                                                 \n",
      " max_pooling2d (MaxPooling2D  (None, 14, 14, 14)       0         \n",
      " )                                                               \n",
      "                                                                 \n",
      " conv2d_1 (Conv2D)           (None, 9, 9, 28)          14140     \n",
      "                                                                 \n",
      " max_pooling2d_1 (MaxPooling  (None, 4, 4, 28)         0         \n",
      " 2D)                                                             \n",
      "                                                                 \n",
      " flatten (Flatten)           (None, 448)               0         \n",
      "                                                                 \n",
      " dense (Dense)               (None, 120)               53880     \n",
      "                                                                 \n",
      " dropout (Dropout)           (None, 120)               0         \n",
      "                                                                 \n",
      " dense_1 (Dense)             (None, 84)                10164     \n",
      "                                                                 \n",
      " dropout_1 (Dropout)         (None, 84)                0         \n",
      "                                                                 \n",
      " dense_2 (Dense)             (None, 10)                850       \n",
      "                                                                 \n",
      "=================================================================\n",
      "Total params: 79,552\n",
      "Trainable params: 79,552\n",
      "Non-trainable params: 0\n",
      "_________________________________________________________________\n"
     ]
    }
   ],
   "source": [
    "model.summary()"
   ]
  },
  {
   "cell_type": "code",
   "execution_count": 9,
   "id": "308cfec0",
   "metadata": {},
   "outputs": [],
   "source": [
    "def train_model(model, X_train, y_train, X_valid, y_valid, epochs = 50, batch_size = 128):\n",
    "    # Rescaling all training and testing data\n",
    "    #X_train, y_train, X_valid, y_valid = preprocess_data(X_train, y_train, X_valid, y_valid)\n",
    "    # Fitting the model on the training set\n",
    "    history = model.fit(X_train, y_train, epochs = epochs, batch_size = batch_size, \n",
    "                      steps_per_epoch = X_train.shape[0]//batch_size, \n",
    "                      validation_data = (X_valid, y_valid), \n",
    "                      validation_steps = X_valid.shape[0]//batch_size, verbose = 1, callbacks = [cp])\n",
    "    # evaluating the model\n",
    "    _, acc = model.evaluate(X_valid, y_valid, verbose = 1)\n",
    "    print('%.3f' % (acc * 100.0))\n",
    "    return model, history"
   ]
  },
  {
   "cell_type": "code",
   "execution_count": 10,
   "id": "127390cb",
   "metadata": {},
   "outputs": [
    {
     "name": "stdout",
     "output_type": "stream",
     "text": [
      "Epoch 1/55\n",
      "420/421 [============================>.] - ETA: 0s - loss: 1.7437 - accuracy: 0.4133INFO:tensorflow:Assets written to: model3\\assets\n",
      "421/421 [==============================] - 15s 35ms/step - loss: 1.7415 - accuracy: 0.4141 - val_loss: 0.5125 - val_accuracy: 0.8828\n",
      "Epoch 2/55\n",
      "421/421 [==============================] - ETA: 0s - loss: 0.6273 - accuracy: 0.8070INFO:tensorflow:Assets written to: model3\\assets\n",
      "421/421 [==============================] - 15s 36ms/step - loss: 0.6273 - accuracy: 0.8070 - val_loss: 0.2263 - val_accuracy: 0.9399\n",
      "Epoch 3/55\n",
      "420/421 [============================>.] - ETA: 0s - loss: 0.4081 - accuracy: 0.8770INFO:tensorflow:Assets written to: model3\\assets\n",
      "421/421 [==============================] - 16s 38ms/step - loss: 0.4079 - accuracy: 0.8771 - val_loss: 0.1553 - val_accuracy: 0.9562\n",
      "Epoch 4/55\n",
      "421/421 [==============================] - ETA: 0s - loss: 0.3168 - accuracy: 0.9056INFO:tensorflow:Assets written to: model3\\assets\n",
      "421/421 [==============================] - 16s 37ms/step - loss: 0.3168 - accuracy: 0.9056 - val_loss: 0.1253 - val_accuracy: 0.9631\n",
      "Epoch 5/55\n",
      "420/421 [============================>.] - ETA: 0s - loss: 0.2616 - accuracy: 0.9233INFO:tensorflow:Assets written to: model3\\assets\n",
      "421/421 [==============================] - 17s 40ms/step - loss: 0.2618 - accuracy: 0.9233 - val_loss: 0.1074 - val_accuracy: 0.9665\n",
      "Epoch 6/55\n",
      "421/421 [==============================] - ETA: 0s - loss: 0.2280 - accuracy: 0.9324INFO:tensorflow:Assets written to: model3\\assets\n",
      "421/421 [==============================] - 17s 41ms/step - loss: 0.2280 - accuracy: 0.9324 - val_loss: 0.0911 - val_accuracy: 0.9723\n",
      "Epoch 7/55\n",
      "420/421 [============================>.] - ETA: 0s - loss: 0.2065 - accuracy: 0.9395INFO:tensorflow:Assets written to: model3\\assets\n",
      "421/421 [==============================] - 17s 41ms/step - loss: 0.2063 - accuracy: 0.9396 - val_loss: 0.0856 - val_accuracy: 0.9728\n",
      "Epoch 8/55\n",
      "421/421 [==============================] - ETA: 0s - loss: 0.1838 - accuracy: 0.9475INFO:tensorflow:Assets written to: model3\\assets\n",
      "421/421 [==============================] - 17s 39ms/step - loss: 0.1838 - accuracy: 0.9475 - val_loss: 0.0749 - val_accuracy: 0.9754\n",
      "Epoch 9/55\n",
      "420/421 [============================>.] - ETA: 0s - loss: 0.1734 - accuracy: 0.9494INFO:tensorflow:Assets written to: model3\\assets\n",
      "421/421 [==============================] - 18s 42ms/step - loss: 0.1733 - accuracy: 0.9495 - val_loss: 0.0703 - val_accuracy: 0.9786\n",
      "Epoch 10/55\n",
      "421/421 [==============================] - ETA: 0s - loss: 0.1603 - accuracy: 0.9534INFO:tensorflow:Assets written to: model3\\assets\n",
      "421/421 [==============================] - 18s 42ms/step - loss: 0.1603 - accuracy: 0.9534 - val_loss: 0.0683 - val_accuracy: 0.9786\n",
      "Epoch 11/55\n",
      "420/421 [============================>.] - ETA: 0s - loss: 0.1477 - accuracy: 0.9564INFO:tensorflow:Assets written to: model3\\assets\n",
      "421/421 [==============================] - 17s 40ms/step - loss: 0.1478 - accuracy: 0.9563 - val_loss: 0.0645 - val_accuracy: 0.9781\n",
      "Epoch 12/55\n",
      "421/421 [==============================] - ETA: 0s - loss: 0.1414 - accuracy: 0.9592INFO:tensorflow:Assets written to: model3\\assets\n",
      "421/421 [==============================] - 17s 41ms/step - loss: 0.1414 - accuracy: 0.9592 - val_loss: 0.0608 - val_accuracy: 0.9803\n",
      "Epoch 13/55\n",
      "421/421 [==============================] - 17s 40ms/step - loss: 0.1338 - accuracy: 0.9620 - val_loss: 0.0610 - val_accuracy: 0.9793\n",
      "Epoch 14/55\n",
      "420/421 [============================>.] - ETA: 0s - loss: 0.1302 - accuracy: 0.9624INFO:tensorflow:Assets written to: model3\\assets\n",
      "421/421 [==============================] - 18s 42ms/step - loss: 0.1301 - accuracy: 0.9624 - val_loss: 0.0592 - val_accuracy: 0.9796\n",
      "Epoch 15/55\n",
      "420/421 [============================>.] - ETA: 0s - loss: 0.1241 - accuracy: 0.9651INFO:tensorflow:Assets written to: model3\\assets\n",
      "421/421 [==============================] - 17s 41ms/step - loss: 0.1241 - accuracy: 0.9651 - val_loss: 0.0567 - val_accuracy: 0.9811\n",
      "Epoch 16/55\n",
      "421/421 [==============================] - ETA: 0s - loss: 0.1190 - accuracy: 0.9655INFO:tensorflow:Assets written to: model3\\assets\n",
      "421/421 [==============================] - 17s 39ms/step - loss: 0.1190 - accuracy: 0.9655 - val_loss: 0.0532 - val_accuracy: 0.9828\n",
      "Epoch 17/55\n",
      "420/421 [============================>.] - ETA: 0s - loss: 0.1136 - accuracy: 0.9667INFO:tensorflow:Assets written to: model3\\assets\n",
      "421/421 [==============================] - 18s 42ms/step - loss: 0.1135 - accuracy: 0.9667 - val_loss: 0.0505 - val_accuracy: 0.9837\n",
      "Epoch 18/55\n",
      "421/421 [==============================] - 17s 41ms/step - loss: 0.1081 - accuracy: 0.9695 - val_loss: 0.0513 - val_accuracy: 0.9835\n",
      "Epoch 19/55\n",
      "421/421 [==============================] - ETA: 0s - loss: 0.1055 - accuracy: 0.9692INFO:tensorflow:Assets written to: model3\\assets\n",
      "421/421 [==============================] - 18s 42ms/step - loss: 0.1055 - accuracy: 0.9692 - val_loss: 0.0500 - val_accuracy: 0.9830\n",
      "Epoch 20/55\n",
      "421/421 [==============================] - 16s 39ms/step - loss: 0.1010 - accuracy: 0.9710 - val_loss: 0.0566 - val_accuracy: 0.9817\n",
      "Epoch 21/55\n",
      "420/421 [============================>.] - ETA: 0s - loss: 0.0970 - accuracy: 0.9723INFO:tensorflow:Assets written to: model3\\assets\n",
      "421/421 [==============================] - 19s 45ms/step - loss: 0.0971 - accuracy: 0.9723 - val_loss: 0.0478 - val_accuracy: 0.9849\n",
      "Epoch 22/55\n",
      "420/421 [============================>.] - ETA: 0s - loss: 0.1005 - accuracy: 0.9716INFO:tensorflow:Assets written to: model3\\assets\n",
      "421/421 [==============================] - 18s 43ms/step - loss: 0.1006 - accuracy: 0.9716 - val_loss: 0.0465 - val_accuracy: 0.9851\n",
      "Epoch 23/55\n",
      "420/421 [============================>.] - ETA: 0s - loss: 0.0922 - accuracy: 0.9736INFO:tensorflow:Assets written to: model3\\assets\n",
      "421/421 [==============================] - 18s 42ms/step - loss: 0.0921 - accuracy: 0.9736 - val_loss: 0.0465 - val_accuracy: 0.9840\n",
      "Epoch 24/55\n",
      "421/421 [==============================] - ETA: 0s - loss: 0.0917 - accuracy: 0.9735INFO:tensorflow:Assets written to: model3\\assets\n",
      "421/421 [==============================] - 17s 40ms/step - loss: 0.0917 - accuracy: 0.9735 - val_loss: 0.0462 - val_accuracy: 0.9852\n",
      "Epoch 25/55\n",
      "421/421 [==============================] - ETA: 0s - loss: 0.0873 - accuracy: 0.9748INFO:tensorflow:Assets written to: model3\\assets\n",
      "421/421 [==============================] - 17s 40ms/step - loss: 0.0873 - accuracy: 0.9748 - val_loss: 0.0444 - val_accuracy: 0.9866\n",
      "Epoch 26/55\n",
      "421/421 [==============================] - 17s 40ms/step - loss: 0.0830 - accuracy: 0.9756 - val_loss: 0.0461 - val_accuracy: 0.9864\n",
      "Epoch 27/55\n",
      "420/421 [============================>.] - ETA: 0s - loss: 0.0829 - accuracy: 0.9758INFO:tensorflow:Assets written to: model3\\assets\n",
      "421/421 [==============================] - 18s 42ms/step - loss: 0.0829 - accuracy: 0.9758 - val_loss: 0.0426 - val_accuracy: 0.9862\n",
      "Epoch 28/55\n",
      "421/421 [==============================] - ETA: 0s - loss: 0.0820 - accuracy: 0.9760INFO:tensorflow:Assets written to: model3\\assets\n",
      "421/421 [==============================] - 18s 43ms/step - loss: 0.0820 - accuracy: 0.9760 - val_loss: 0.0425 - val_accuracy: 0.9871\n",
      "Epoch 29/55\n",
      "421/421 [==============================] - ETA: 0s - loss: 0.0790 - accuracy: 0.9772INFO:tensorflow:Assets written to: model3\\assets\n",
      "421/421 [==============================] - 17s 40ms/step - loss: 0.0790 - accuracy: 0.9772 - val_loss: 0.0418 - val_accuracy: 0.9866\n",
      "Epoch 30/55\n",
      "421/421 [==============================] - 17s 41ms/step - loss: 0.0784 - accuracy: 0.9775 - val_loss: 0.0418 - val_accuracy: 0.9868\n",
      "Epoch 31/55\n",
      "421/421 [==============================] - ETA: 0s - loss: 0.0762 - accuracy: 0.9776INFO:tensorflow:Assets written to: model3\\assets\n",
      "421/421 [==============================] - 17s 40ms/step - loss: 0.0762 - accuracy: 0.9776 - val_loss: 0.0407 - val_accuracy: 0.9881\n",
      "Epoch 32/55\n",
      "421/421 [==============================] - ETA: 0s - loss: 0.0750 - accuracy: 0.9778INFO:tensorflow:Assets written to: model3\\assets\n",
      "421/421 [==============================] - 17s 39ms/step - loss: 0.0750 - accuracy: 0.9778 - val_loss: 0.0404 - val_accuracy: 0.9876\n"
     ]
    },
    {
     "name": "stdout",
     "output_type": "stream",
     "text": [
      "Epoch 33/55\n",
      "421/421 [==============================] - 18s 42ms/step - loss: 0.0727 - accuracy: 0.9790 - val_loss: 0.0422 - val_accuracy: 0.9869\n",
      "Epoch 34/55\n",
      "421/421 [==============================] - ETA: 0s - loss: 0.0732 - accuracy: 0.9787INFO:tensorflow:Assets written to: model3\\assets\n",
      "421/421 [==============================] - 19s 46ms/step - loss: 0.0732 - accuracy: 0.9787 - val_loss: 0.0387 - val_accuracy: 0.9874\n",
      "Epoch 35/55\n",
      "421/421 [==============================] - 18s 42ms/step - loss: 0.0703 - accuracy: 0.9798 - val_loss: 0.0407 - val_accuracy: 0.9886\n",
      "Epoch 36/55\n",
      "421/421 [==============================] - ETA: 0s - loss: 0.0712 - accuracy: 0.9793INFO:tensorflow:Assets written to: model3\\assets\n",
      "421/421 [==============================] - 17s 40ms/step - loss: 0.0712 - accuracy: 0.9793 - val_loss: 0.0372 - val_accuracy: 0.9893\n",
      "Epoch 37/55\n",
      "421/421 [==============================] - 16s 38ms/step - loss: 0.0674 - accuracy: 0.9805 - val_loss: 0.0372 - val_accuracy: 0.9881\n",
      "Epoch 38/55\n",
      "421/421 [==============================] - 16s 39ms/step - loss: 0.0647 - accuracy: 0.9814 - val_loss: 0.0380 - val_accuracy: 0.9879\n",
      "Epoch 39/55\n",
      "421/421 [==============================] - ETA: 0s - loss: 0.0680 - accuracy: 0.9799INFO:tensorflow:Assets written to: model3\\assets\n",
      "421/421 [==============================] - 17s 41ms/step - loss: 0.0680 - accuracy: 0.9799 - val_loss: 0.0357 - val_accuracy: 0.9898\n",
      "Epoch 40/55\n",
      "421/421 [==============================] - ETA: 0s - loss: 0.0623 - accuracy: 0.9817INFO:tensorflow:Assets written to: model3\\assets\n",
      "421/421 [==============================] - 17s 41ms/step - loss: 0.0623 - accuracy: 0.9817 - val_loss: 0.0354 - val_accuracy: 0.9900\n",
      "Epoch 41/55\n",
      "421/421 [==============================] - 17s 40ms/step - loss: 0.0630 - accuracy: 0.9815 - val_loss: 0.0382 - val_accuracy: 0.9891\n",
      "Epoch 42/55\n",
      "421/421 [==============================] - 17s 41ms/step - loss: 0.0602 - accuracy: 0.9824 - val_loss: 0.0378 - val_accuracy: 0.9883\n",
      "Epoch 43/55\n",
      "421/421 [==============================] - 18s 43ms/step - loss: 0.0579 - accuracy: 0.9832 - val_loss: 0.0362 - val_accuracy: 0.9898\n",
      "Epoch 44/55\n",
      "421/421 [==============================] - ETA: 0s - loss: 0.0593 - accuracy: 0.9832INFO:tensorflow:Assets written to: model3\\assets\n",
      "421/421 [==============================] - 18s 43ms/step - loss: 0.0593 - accuracy: 0.9832 - val_loss: 0.0349 - val_accuracy: 0.9905\n",
      "Epoch 45/55\n",
      "421/421 [==============================] - 17s 40ms/step - loss: 0.0612 - accuracy: 0.9826 - val_loss: 0.0353 - val_accuracy: 0.9901\n",
      "Epoch 46/55\n",
      "420/421 [============================>.] - ETA: 0s - loss: 0.0584 - accuracy: 0.9833INFO:tensorflow:Assets written to: model3\\assets\n",
      "421/421 [==============================] - 18s 42ms/step - loss: 0.0589 - accuracy: 0.9832 - val_loss: 0.0341 - val_accuracy: 0.9900\n",
      "Epoch 47/55\n",
      "421/421 [==============================] - 17s 41ms/step - loss: 0.0574 - accuracy: 0.9834 - val_loss: 0.0344 - val_accuracy: 0.9905\n",
      "Epoch 48/55\n",
      "421/421 [==============================] - 18s 42ms/step - loss: 0.0555 - accuracy: 0.9840 - val_loss: 0.0354 - val_accuracy: 0.9895\n",
      "Epoch 49/55\n",
      "421/421 [==============================] - 17s 42ms/step - loss: 0.0546 - accuracy: 0.9839 - val_loss: 0.0348 - val_accuracy: 0.9901\n",
      "Epoch 50/55\n",
      "420/421 [============================>.] - ETA: 0s - loss: 0.0538 - accuracy: 0.9844INFO:tensorflow:Assets written to: model3\\assets\n",
      "421/421 [==============================] - 18s 43ms/step - loss: 0.0538 - accuracy: 0.9845 - val_loss: 0.0339 - val_accuracy: 0.9898\n",
      "Epoch 51/55\n",
      "421/421 [==============================] - 17s 41ms/step - loss: 0.0523 - accuracy: 0.9838 - val_loss: 0.0347 - val_accuracy: 0.9896\n",
      "Epoch 52/55\n",
      "420/421 [============================>.] - ETA: 0s - loss: 0.0535 - accuracy: 0.9843INFO:tensorflow:Assets written to: model3\\assets\n",
      "421/421 [==============================] - 18s 42ms/step - loss: 0.0535 - accuracy: 0.9843 - val_loss: 0.0325 - val_accuracy: 0.9908\n",
      "Epoch 53/55\n",
      "421/421 [==============================] - 17s 41ms/step - loss: 0.0512 - accuracy: 0.9854 - val_loss: 0.0330 - val_accuracy: 0.9907\n",
      "Epoch 54/55\n",
      "421/421 [==============================] - 18s 42ms/step - loss: 0.0512 - accuracy: 0.9846 - val_loss: 0.0330 - val_accuracy: 0.9912\n",
      "Epoch 55/55\n",
      "421/421 [==============================] - 18s 42ms/step - loss: 0.0500 - accuracy: 0.9852 - val_loss: 0.0341 - val_accuracy: 0.9901\n",
      "188/188 [==============================] - 1s 6ms/step - loss: 0.0361 - accuracy: 0.9902\n",
      "99.017\n"
     ]
    }
   ],
   "source": [
    "model, history = train_model(model, X_train, y_train, X_valid, y_valid, epochs = 55, batch_size = 128)"
   ]
  },
  {
   "cell_type": "code",
   "execution_count": 11,
   "id": "6f9ef1a1",
   "metadata": {},
   "outputs": [],
   "source": [
    "from tensorflow.keras.models import load_model\n",
    "model = load_model(\"model3/\")"
   ]
  },
  {
   "cell_type": "markdown",
   "id": "640aa45d",
   "metadata": {},
   "source": [
    "### Plotting the loss and accuracy"
   ]
  },
  {
   "cell_type": "code",
   "execution_count": 12,
   "id": "2e4e8558",
   "metadata": {},
   "outputs": [],
   "source": [
    "def summary_history_accuracy(history):\n",
    "    plt.figure(figsize = (10,6))\n",
    "    plt.plot(history.history['accuracy'], color = 'blue', label = 'train_accurarcy')\n",
    "    plt.plot(history.history['val_accuracy'], color = 'red', label = 'val_accurarcy')\n",
    "    plt.legend()\n",
    "    plt.title('Accuracy')\n",
    "    plt.show()\n",
    "    \n",
    "def summary_history_losses(history):\n",
    "    plt.figure(figsize = (10,6))\n",
    "    plt.plot(history.history['loss'], color = 'blue', label = 'train_loss')\n",
    "    plt.plot(history.history['val_loss'], color = 'red', label = 'val_loss')\n",
    "    plt.legend()\n",
    "    plt.title('Loss')\n",
    "    plt.show()\n",
    "    "
   ]
  },
  {
   "cell_type": "code",
   "execution_count": 13,
   "id": "a5e8ad1c",
   "metadata": {},
   "outputs": [
    {
     "data": {
      "image/png": "[encoded data removed]",
      "text/plain": [
       "<Figure size 720x432 with 1 Axes>"
      ]
     },
     "metadata": {
      "needs_background": "light"
     },
     "output_type": "display_data"
    }
   ],
   "source": [
    "summary_history_accuracy(history)"
   ]
  },
  {
   "cell_type": "code",
   "execution_count": 14,
   "id": "2788bcfd",
   "metadata": {},
   "outputs": [
    {
     "data": {
      "image/png": "[encoded data removed]",
      "text/plain": [
       "<Figure size 720x432 with 1 Axes>"
      ]
     },
     "metadata": {
      "needs_background": "light"
     },
     "output_type": "display_data"
    }
   ],
   "source": [
    "summary_history_losses(history)"
   ]
  },
  {
   "cell_type": "markdown",
   "id": "03f872c6",
   "metadata": {},
   "source": [
    "### Prediction"
   ]
  },
  {
   "cell_type": "code",
   "execution_count": 15,
   "id": "52ea9e84",
   "metadata": {},
   "outputs": [],
   "source": [
    "Y_pred_val = model.predict(X_valid)\n",
    "# Convert predictions classes to one hot vectors \n",
    "Y_pred__valclasses = np.argmax(Y_pred_val,axis = 1) \n",
    "# Convert validation observations to one hot vectors\n",
    "Y_true_val = np.argmax(y_valid, axis = 1) \n",
    "\n",
    "Y_pred_test = model.predict(X_test)\n",
    "# Convert predictions classes to one hot vectors \n",
    "Y_pred_test_classes = np.argmax(Y_pred_test,axis = 1) \n",
    "# Convert validation observations to one hot vectors\n",
    "Y_true_test = np.argmax(y_test,axis = 1) \n",
    "\n",
    "Y_pred_train = model.predict(X_train)\n",
    "# Convert predictions classes to one hot vectors \n",
    "Y_pred_classes_train = np.argmax(Y_pred_train,axis = 1) \n",
    "# Convert validation observations to one hot vectors\n",
    "Y_true_train = np.argmax(y_train,axis = 1) "
   ]
  },
  {
   "cell_type": "code",
   "execution_count": 16,
   "id": "d05c550b",
   "metadata": {},
   "outputs": [
    {
     "data": {
      "text/plain": [
       "array([7, 2, 1, ..., 4, 5, 6], dtype=int64)"
      ]
     },
     "execution_count": 16,
     "metadata": {},
     "output_type": "execute_result"
    }
   ],
   "source": [
    "Y_pred_test_classes"
   ]
  },
  {
   "cell_type": "markdown",
   "id": "8978a9ab",
   "metadata": {},
   "source": [
    "### Test Set Confusion Matrix"
   ]
  },
  {
   "cell_type": "code",
   "execution_count": 17,
   "id": "a8830b6c",
   "metadata": {},
   "outputs": [
    {
     "data": {
      "text/plain": [
       "Text(51.0, 0.5, 'True classes')"
      ]
     },
     "execution_count": 17,
     "metadata": {},
     "output_type": "execute_result"
    },
    {
     "data": {
      "image/png": "[encoded data removed]",
      "text/plain": [
       "<Figure size 576x432 with 2 Axes>"
      ]
     },
     "metadata": {
      "needs_background": "light"
     },
     "output_type": "display_data"
    }
   ],
   "source": [
    "from sklearn.metrics import confusion_matrix\n",
    "import seaborn as sns \n",
    "\n",
    "con_mat = confusion_matrix(Y_true_test, Y_pred_test_classes)\n",
    "\n",
    "plt.figure(figsize = (8,6))\n",
    "sns.heatmap(con_mat, linewidths = 0.1, cmap = 'Greens', linecolor = 'gray', \n",
    "            fmt = '.1f', annot = True)\n",
    "plt.xlabel('Predicted classes', fontsize = 20)\n",
    "plt.ylabel('True classes', fontsize = 20)"
   ]
  },
  {
   "cell_type": "markdown",
   "id": "7a8d0166",
   "metadata": {},
   "source": [
    "### Validation Set Confusion Matrix"
   ]
  },
  {
   "cell_type": "code",
   "execution_count": 18,
   "id": "80671487",
   "metadata": {},
   "outputs": [
    {
     "data": {
      "text/plain": [
       "Text(51.0, 0.5, 'True classes')"
      ]
     },
     "execution_count": 18,
     "metadata": {},
     "output_type": "execute_result"
    },
    {
     "data": {
      "image/png": "[encoded data removed]",
      "text/plain": [
       "<Figure size 576x432 with 2 Axes>"
      ]
     },
     "metadata": {
      "needs_background": "light"
     },
     "output_type": "display_data"
    }
   ],
   "source": [
    "con_mat = confusion_matrix(Y_true_val, Y_pred__valclasses)\n",
    "\n",
    "plt.figure(figsize = (8,6))\n",
    "sns.heatmap(con_mat, linewidths = 0.1, cmap = 'Greens', linecolor = 'gray', \n",
    "            fmt = '.1f', annot = True)\n",
    "plt.xlabel('Predicted classes', fontsize = 20)\n",
    "plt.ylabel('True classes', fontsize = 20)"
   ]
  },
  {
   "cell_type": "markdown",
   "id": "2dcdb850",
   "metadata": {},
   "source": [
    "### Train Set Confusion Matrix"
   ]
  },
  {
   "cell_type": "code",
   "execution_count": 19,
   "id": "46af437d",
   "metadata": {},
   "outputs": [
    {
     "data": {
      "text/plain": [
       "Text(51.0, 0.5, 'True classes')"
      ]
     },
     "execution_count": 19,
     "metadata": {},
     "output_type": "execute_result"
    },
    {
     "data": {
      "image/png": "[encoded data removed]",
      "text/plain": [
       "<Figure size 576x432 with 2 Axes>"
      ]
     },
     "metadata": {
      "needs_background": "light"
     },
     "output_type": "display_data"
    }
   ],
   "source": [
    "con_mat = confusion_matrix(Y_true_train, Y_pred_classes_train)\n",
    "\n",
    "plt.figure(figsize = (8,6))\n",
    "sns.heatmap(con_mat, linewidths = 0.1, cmap = 'Greens', linecolor = 'gray', \n",
    "            fmt = '.1f', annot = True)\n",
    "plt.xlabel('Predicted classes', fontsize = 20)\n",
    "plt.ylabel('True classes', fontsize = 20)"
   ]
  },
  {
   "cell_type": "markdown",
   "id": "c1efbadb",
   "metadata": {},
   "source": [
    "### Test Set Classfication Report"
   ]
  },
  {
   "cell_type": "code",
   "execution_count": 20,
   "id": "53a98df3",
   "metadata": {},
   "outputs": [
    {
     "name": "stdout",
     "output_type": "stream",
     "text": [
      "              precision    recall  f1-score   support\n",
      "\n",
      "           0       0.99      1.00      0.99       980\n",
      "           1       0.99      1.00      0.99      1135\n",
      "           2       0.99      0.99      0.99      1032\n",
      "           3       0.99      0.99      0.99      1010\n",
      "           4       0.99      1.00      0.99       982\n",
      "           5       0.99      0.99      0.99       892\n",
      "           6       0.99      0.99      0.99       958\n",
      "           7       0.98      0.99      0.98      1028\n",
      "           8       1.00      0.99      0.99       974\n",
      "           9       0.99      0.98      0.99      1009\n",
      "\n",
      "    accuracy                           0.99     10000\n",
      "   macro avg       0.99      0.99      0.99     10000\n",
      "weighted avg       0.99      0.99      0.99     10000\n",
      "\n"
     ]
    }
   ],
   "source": [
    "from sklearn.metrics import classification_report\n",
    "print(classification_report(Y_true_test, Y_pred_test_classes))"
   ]
  },
  {
   "cell_type": "markdown",
   "id": "9421de4a",
   "metadata": {},
   "source": [
    "### Validation Set Classfication Report"
   ]
  },
  {
   "cell_type": "code",
   "execution_count": 21,
   "id": "30f93597",
   "metadata": {},
   "outputs": [
    {
     "name": "stdout",
     "output_type": "stream",
     "text": [
      "              precision    recall  f1-score   support\n",
      "\n",
      "           0       1.00      0.99      0.99       587\n",
      "           1       0.99      0.99      0.99       630\n",
      "           2       0.99      0.99      0.99       600\n",
      "           3       0.99      0.99      0.99       627\n",
      "           4       1.00      0.98      0.99       595\n",
      "           5       0.99      0.98      0.98       549\n",
      "           6       0.99      1.00      0.99       571\n",
      "           7       0.99      1.00      1.00       668\n",
      "           8       0.99      0.99      0.99       597\n",
      "           9       0.98      0.99      0.98       576\n",
      "\n",
      "    accuracy                           0.99      6000\n",
      "   macro avg       0.99      0.99      0.99      6000\n",
      "weighted avg       0.99      0.99      0.99      6000\n",
      "\n"
     ]
    }
   ],
   "source": [
    "from sklearn.metrics import classification_report\n",
    "print(classification_report(Y_true_val, Y_pred__valclasses))"
   ]
  },
  {
   "cell_type": "markdown",
   "id": "79e45818",
   "metadata": {},
   "source": [
    "### Train Set Classfication Report"
   ]
  },
  {
   "cell_type": "code",
   "execution_count": 22,
   "id": "31ea353f",
   "metadata": {},
   "outputs": [
    {
     "name": "stdout",
     "output_type": "stream",
     "text": [
      "              precision    recall  f1-score   support\n",
      "\n",
      "           0       0.99      1.00      1.00      5336\n",
      "           1       1.00      1.00      1.00      6112\n",
      "           2       0.99      0.99      0.99      5358\n",
      "           3       1.00      0.99      0.99      5504\n",
      "           4       0.99      0.99      0.99      5247\n",
      "           5       0.99      0.99      0.99      4872\n",
      "           6       0.99      1.00      1.00      5347\n",
      "           7       0.99      1.00      0.99      5597\n",
      "           8       0.99      0.99      0.99      5254\n",
      "           9       0.99      0.99      0.99      5373\n",
      "\n",
      "    accuracy                           0.99     54000\n",
      "   macro avg       0.99      0.99      0.99     54000\n",
      "weighted avg       0.99      0.99      0.99     54000\n",
      "\n"
     ]
    }
   ],
   "source": [
    "from sklearn.metrics import classification_report\n",
    "print(classification_report(Y_true_train, Y_pred_classes_train))"
   ]
  },
  {
   "cell_type": "code",
   "execution_count": 23,
   "id": "a782891d",
   "metadata": {},
   "outputs": [
    {
     "name": "stdout",
     "output_type": "stream",
     "text": [
      "Train Set Accuracy Score:  0.9929074074074075\n"
     ]
    }
   ],
   "source": [
    "from sklearn.metrics import accuracy_score\n",
    "print('Train Set Accuracy Score: ', accuracy_score(Y_true_train, Y_pred_classes_train))"
   ]
  },
  {
   "cell_type": "code",
   "execution_count": 24,
   "id": "b762b5a9",
   "metadata": {},
   "outputs": [
    {
     "name": "stdout",
     "output_type": "stream",
     "text": [
      "Validation Set Accuracy Score:  0.9908333333333333\n"
     ]
    }
   ],
   "source": [
    "print('Validation Set Accuracy Score: ', accuracy_score(Y_true_val, Y_pred__valclasses))"
   ]
  },
  {
   "cell_type": "code",
   "execution_count": 25,
   "id": "f3121fb0",
   "metadata": {},
   "outputs": [
    {
     "name": "stdout",
     "output_type": "stream",
     "text": [
      "Test Set Accuracy Score:  0.9908\n"
     ]
    }
   ],
   "source": [
    "print('Test Set Accuracy Score: ', accuracy_score(Y_true_test, Y_pred_test_classes))"
   ]
  },
  {
   "cell_type": "code",
   "execution_count": 28,
   "id": "5bcd3932",
   "metadata": {},
   "outputs": [
    {
     "data": {
      "text/html": [
       "<div>\n",
       "<style scoped>\n",
       "    .dataframe tbody tr th:only-of-type {\n",
       "        vertical-align: middle;\n",
       "    }\n",
       "\n",
       "    .dataframe tbody tr th {\n",
       "        vertical-align: top;\n",
       "    }\n",
       "\n",
       "    .dataframe thead th {\n",
       "        text-align: right;\n",
       "    }\n",
       "</style>\n",
       "<table border=\"1\" class=\"dataframe\">\n",
       "  <thead>\n",
       "    <tr style=\"text-align: right;\">\n",
       "      <th></th>\n",
       "      <th>Model-1</th>\n",
       "      <th>Model-2</th>\n",
       "      <th>Model-3</th>\n",
       "    </tr>\n",
       "  </thead>\n",
       "  <tbody>\n",
       "    <tr>\n",
       "      <th>Test</th>\n",
       "      <td>0.987100</td>\n",
       "      <td>0.989700</td>\n",
       "      <td>0.990800</td>\n",
       "    </tr>\n",
       "    <tr>\n",
       "      <th>Train</th>\n",
       "      <td>0.994926</td>\n",
       "      <td>0.993241</td>\n",
       "      <td>0.992907</td>\n",
       "    </tr>\n",
       "  </tbody>\n",
       "</table>\n",
       "</div>"
      ],
      "text/plain": [
       "        Model-1   Model-2   Model-3\n",
       "Test   0.987100  0.989700  0.990800\n",
       "Train  0.994926  0.993241  0.992907"
      ]
     },
     "execution_count": 28,
     "metadata": {},
     "output_type": "execute_result"
    }
   ],
   "source": [
    "import pandas as pd\n",
    "scores = { \"Model-1\" : {\"Test\" : 0.9871,\n",
    "                        \"Train\": 0.9949259259259259}, \n",
    "           \"Model-2\" : {\"Test\" : 0.9897,\n",
    "                        \"Train\": 0.9932407407407408},\n",
    "           \"Model-3\" : {\"Test\" : 0.9908,\n",
    "                        \"Train\": 0.9929074074074075}\n",
    "                        }\n",
    "\n",
    "Scores = pd.DataFrame(scores)\n",
    "Scores"
   ]
  },
  {
   "cell_type": "code",
   "execution_count": null,
   "id": "d157fc6d",
   "metadata": {},
   "outputs": [],
   "source": []
  }
 ],
 "metadata": {
  "kernelspec": {
   "display_name": "Python 3 (ipykernel)",
   "language": "python",
   "name": "python3"
  },
  "language_info": {
   "codemirror_mode": {
    "name": "ipython",
    "version": 3
   },
   "file_extension": ".py",
   "mimetype": "text/x-python",
   "name": "python",
   "nbconvert_exporter": "python",
   "pygments_lexer": "ipython3",
   "version": "3.9.7"
  }
 },
 "nbformat": 4,
 "nbformat_minor": 5
}
